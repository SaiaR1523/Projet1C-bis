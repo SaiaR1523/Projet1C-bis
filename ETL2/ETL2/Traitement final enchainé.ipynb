{
 "cells": [
  {
   "cell_type": "code",
   "execution_count": 1,
   "id": "4f53bab3",
   "metadata": {},
   "outputs": [
    {
     "data": {
      "text/plain": [
       "<bound method NDFrame.head of        InvoiceNo StockCode                          Description  Quantity  \\\n",
       "0         536365    85123A   WHITE HANGING HEART T-LIGHT HOLDER         6   \n",
       "1         536365     71053                  WHITE METAL LANTERN         6   \n",
       "2         536365    84406B       CREAM CUPID HEARTS COAT HANGER         8   \n",
       "3         536365    84029G  KNITTED UNION FLAG HOT WATER BOTTLE         6   \n",
       "4         536365    84029E       RED WOOLLY HOTTIE WHITE HEART.         6   \n",
       "...          ...       ...                                  ...       ...   \n",
       "245898    558637     22032         BOTANICAL LILY GREETING CARD        12   \n",
       "245899    558637     22028         PENNY FARTHING BIRTHDAY CARD        12   \n",
       "245900    558637     22033         BOTANICAL ROSE GREETING CARD        12   \n",
       "245901    558637     22029               SPACEBOY BIRTHDAY CARD        12   \n",
       "245902    558637     22024           RAINY LADIES BIRTHDAY CARD        12   \n",
       "\n",
       "            InvoiceDate  UnitPrice  CustomerID         Country  \n",
       "0        12/1/2010 8:26       2.55     17850.0  United Kingdom  \n",
       "1        12/1/2010 8:26       3.39     17850.0  United Kingdom  \n",
       "2        12/1/2010 8:26       2.75     17850.0  United Kingdom  \n",
       "3        12/1/2010 8:26       3.39     17850.0  United Kingdom  \n",
       "4        12/1/2010 8:26       3.39     17850.0  United Kingdom  \n",
       "...                 ...        ...         ...             ...  \n",
       "245898  6/30/2011 20:08       0.42     17891.0  United Kingdom  \n",
       "245899  6/30/2011 20:08       0.42     17891.0  United Kingdom  \n",
       "245900  6/30/2011 20:08       0.42     17891.0  United Kingdom  \n",
       "245901  6/30/2011 20:08       0.42     17891.0  United Kingdom  \n",
       "245902  6/30/2011 20:08       0.42     17891.0  United Kingdom  \n",
       "\n",
       "[245903 rows x 8 columns]>"
      ]
     },
     "execution_count": 1,
     "metadata": {},
     "output_type": "execute_result"
    }
   ],
   "source": [
    "import numpy as np\n",
    "import matplotlib.pyplot as plt\n",
    "import pandas as pd\n",
    "df = pd.read_csv('data2010-2011s1.csv', encoding = \"ISO-8859-1\")  #on a 8 colonnes\n",
    "df.head  #permet de voir les première lignes du data set"
   ]
  },
  {
   "cell_type": "code",
   "execution_count": 2,
   "id": "93cb4321",
   "metadata": {},
   "outputs": [
    {
     "name": "stdout",
     "output_type": "stream",
     "text": [
      "       InvoiceNo StockCode                          Description  Quantity  \\\n",
      "0         536365    85123A   WHITE HANGING HEART T-LIGHT HOLDER         6   \n",
      "1         536365     71053                  WHITE METAL LANTERN         6   \n",
      "2         536365    84406B       CREAM CUPID HEARTS COAT HANGER         8   \n",
      "3         536365    84029G  KNITTED UNION FLAG HOT WATER BOTTLE         6   \n",
      "4         536365    84029E       RED WOOLLY HOTTIE WHITE HEART.         6   \n",
      "...          ...       ...                                  ...       ...   \n",
      "245898    558637     22032         BOTANICAL LILY GREETING CARD        12   \n",
      "245899    558637     22028         PENNY FARTHING BIRTHDAY CARD        12   \n",
      "245900    558637     22033         BOTANICAL ROSE GREETING CARD        12   \n",
      "245901    558637     22029               SPACEBOY BIRTHDAY CARD        12   \n",
      "245902    558637     22024           RAINY LADIES BIRTHDAY CARD        12   \n",
      "\n",
      "            InvoiceDate  UnitPrice  CustomerID         Country  \n",
      "0        12/1/2010 8:26       2.55     17850.0  United Kingdom  \n",
      "1        12/1/2010 8:26       3.39     17850.0  United Kingdom  \n",
      "2        12/1/2010 8:26       2.75     17850.0  United Kingdom  \n",
      "3        12/1/2010 8:26       3.39     17850.0  United Kingdom  \n",
      "4        12/1/2010 8:26       3.39     17850.0  United Kingdom  \n",
      "...                 ...        ...         ...             ...  \n",
      "245898  6/30/2011 20:08       0.42     17891.0  United Kingdom  \n",
      "245899  6/30/2011 20:08       0.42     17891.0  United Kingdom  \n",
      "245900  6/30/2011 20:08       0.42     17891.0  United Kingdom  \n",
      "245901  6/30/2011 20:08       0.42     17891.0  United Kingdom  \n",
      "245902  6/30/2011 20:08       0.42     17891.0  United Kingdom  \n",
      "\n",
      "[241965 rows x 8 columns]\n"
     ]
    }
   ],
   "source": [
    "df = df.drop_duplicates(['InvoiceNo','StockCode']) \n",
    "print (df)"
   ]
  },
  {
   "cell_type": "code",
   "execution_count": 3,
   "id": "4ed981e3",
   "metadata": {},
   "outputs": [
    {
     "name": "stdout",
     "output_type": "stream",
     "text": [
      "       InvoiceNo StockCode                          Description  Quantity  \\\n",
      "0         536365    85123A   WHITE HANGING HEART T-LIGHT HOLDER         6   \n",
      "1         536365     71053                  WHITE METAL LANTERN         6   \n",
      "2         536365    84406B       CREAM CUPID HEARTS COAT HANGER         8   \n",
      "3         536365    84029G  KNITTED UNION FLAG HOT WATER BOTTLE         6   \n",
      "4         536365    84029E       RED WOOLLY HOTTIE WHITE HEART.         6   \n",
      "...          ...       ...                                  ...       ...   \n",
      "245898    558637     22032         BOTANICAL LILY GREETING CARD        12   \n",
      "245899    558637     22028         PENNY FARTHING BIRTHDAY CARD        12   \n",
      "245900    558637     22033         BOTANICAL ROSE GREETING CARD        12   \n",
      "245901    558637     22029               SPACEBOY BIRTHDAY CARD        12   \n",
      "245902    558637     22024           RAINY LADIES BIRTHDAY CARD        12   \n",
      "\n",
      "            InvoiceDate  UnitPrice  CustomerID         Country  \n",
      "0        12/1/2010 8:26       2.55     17850.0  United Kingdom  \n",
      "1        12/1/2010 8:26       3.39     17850.0  United Kingdom  \n",
      "2        12/1/2010 8:26       2.75     17850.0  United Kingdom  \n",
      "3        12/1/2010 8:26       3.39     17850.0  United Kingdom  \n",
      "4        12/1/2010 8:26       3.39     17850.0  United Kingdom  \n",
      "...                 ...        ...         ...             ...  \n",
      "245898  6/30/2011 20:08       0.42     17891.0  United Kingdom  \n",
      "245899  6/30/2011 20:08       0.42     17891.0  United Kingdom  \n",
      "245900  6/30/2011 20:08       0.42     17891.0  United Kingdom  \n",
      "245901  6/30/2011 20:08       0.42     17891.0  United Kingdom  \n",
      "245902  6/30/2011 20:08       0.42     17891.0  United Kingdom  \n",
      "\n",
      "[236807 rows x 8 columns]\n"
     ]
    }
   ],
   "source": [
    "df = df.drop(df[df['Quantity'] < 0].index)\n",
    "print (df)"
   ]
  },
  {
   "cell_type": "code",
   "execution_count": 4,
   "id": "3c8b01ae",
   "metadata": {},
   "outputs": [
    {
     "name": "stdout",
     "output_type": "stream",
     "text": [
      "       InvoiceNo StockCode                          Description  Quantity  \\\n",
      "0         536365    85123A   WHITE HANGING HEART T-LIGHT HOLDER         6   \n",
      "1         536365     71053                  WHITE METAL LANTERN         6   \n",
      "2         536365    84406B       CREAM CUPID HEARTS COAT HANGER         8   \n",
      "3         536365    84029G  KNITTED UNION FLAG HOT WATER BOTTLE         6   \n",
      "4         536365    84029E       RED WOOLLY HOTTIE WHITE HEART.         6   \n",
      "...          ...       ...                                  ...       ...   \n",
      "245898    558637     22032         BOTANICAL LILY GREETING CARD        12   \n",
      "245899    558637     22028         PENNY FARTHING BIRTHDAY CARD        12   \n",
      "245900    558637     22033         BOTANICAL ROSE GREETING CARD        12   \n",
      "245901    558637     22029               SPACEBOY BIRTHDAY CARD        12   \n",
      "245902    558637     22024           RAINY LADIES BIRTHDAY CARD        12   \n",
      "\n",
      "            InvoiceDate  UnitPrice  CustomerID         Country  \n",
      "0        12/1/2010 8:26       2.55     17850.0  United Kingdom  \n",
      "1        12/1/2010 8:26       3.39     17850.0  United Kingdom  \n",
      "2        12/1/2010 8:26       2.75     17850.0  United Kingdom  \n",
      "3        12/1/2010 8:26       3.39     17850.0  United Kingdom  \n",
      "4        12/1/2010 8:26       3.39     17850.0  United Kingdom  \n",
      "...                 ...        ...         ...             ...  \n",
      "245898  6/30/2011 20:08       0.42     17891.0  United Kingdom  \n",
      "245899  6/30/2011 20:08       0.42     17891.0  United Kingdom  \n",
      "245900  6/30/2011 20:08       0.42     17891.0  United Kingdom  \n",
      "245901  6/30/2011 20:08       0.42     17891.0  United Kingdom  \n",
      "245902  6/30/2011 20:08       0.42     17891.0  United Kingdom  \n",
      "\n",
      "[235629 rows x 8 columns]\n"
     ]
    }
   ],
   "source": [
    "VS = ['M','POST', 'C2', 'DOT', 'BANK CHARGES', 'D', 'AMAZONFEE', 'S', 'gift_0001_10','gift_0001_20','gift_0001_30','gift_0001_40','gift_0001_50', 'PADS' ]\n",
    "df = df.drop(df[df['StockCode'].isin(VS)].index) # suppriemr les vlaeurs au dessus \n",
    "print(df)"
   ]
  },
  {
   "cell_type": "code",
   "execution_count": 5,
   "id": "1f6110e2",
   "metadata": {},
   "outputs": [
    {
     "data": {
      "text/html": [
       "<div>\n",
       "<style scoped>\n",
       "    .dataframe tbody tr th:only-of-type {\n",
       "        vertical-align: middle;\n",
       "    }\n",
       "\n",
       "    .dataframe tbody tr th {\n",
       "        vertical-align: top;\n",
       "    }\n",
       "\n",
       "    .dataframe thead th {\n",
       "        text-align: right;\n",
       "    }\n",
       "</style>\n",
       "<table border=\"1\" class=\"dataframe\">\n",
       "  <thead>\n",
       "    <tr style=\"text-align: right;\">\n",
       "      <th></th>\n",
       "      <th>InvoiceNo</th>\n",
       "      <th>StockCode</th>\n",
       "      <th>Description</th>\n",
       "      <th>Quantity</th>\n",
       "      <th>InvoiceDate</th>\n",
       "      <th>UnitPrice</th>\n",
       "      <th>CustomerID</th>\n",
       "      <th>Country</th>\n",
       "    </tr>\n",
       "  </thead>\n",
       "  <tbody>\n",
       "  </tbody>\n",
       "</table>\n",
       "</div>"
      ],
      "text/plain": [
       "Empty DataFrame\n",
       "Columns: [InvoiceNo, StockCode, Description, Quantity, InvoiceDate, UnitPrice, CustomerID, Country]\n",
       "Index: []"
      ]
     },
     "execution_count": 5,
     "metadata": {},
     "output_type": "execute_result"
    }
   ],
   "source": [
    "df[df['StockCode'].isin(VS)]  #vérifie si les valeurs sont toujours existant dans le fichier"
   ]
  },
  {
   "cell_type": "code",
   "execution_count": 6,
   "id": "4406aa2f",
   "metadata": {},
   "outputs": [
    {
     "name": "stdout",
     "output_type": "stream",
     "text": [
      "       numFacture numProduit                           nomProduit  Quantity  \\\n",
      "0          536365     85123A   WHITE HANGING HEART T-LIGHT HOLDER         6   \n",
      "1          536365      71053                  WHITE METAL LANTERN         6   \n",
      "2          536365     84406B       CREAM CUPID HEARTS COAT HANGER         8   \n",
      "3          536365     84029G  KNITTED UNION FLAG HOT WATER BOTTLE         6   \n",
      "4          536365     84029E       RED WOOLLY HOTTIE WHITE HEART.         6   \n",
      "...           ...        ...                                  ...       ...   \n",
      "245898     558637      22032         BOTANICAL LILY GREETING CARD        12   \n",
      "245899     558637      22028         PENNY FARTHING BIRTHDAY CARD        12   \n",
      "245900     558637      22033         BOTANICAL ROSE GREETING CARD        12   \n",
      "245901     558637      22029               SPACEBOY BIRTHDAY CARD        12   \n",
      "245902     558637      22024           RAINY LADIES BIRTHDAY CARD        12   \n",
      "\n",
      "              dateAchat    PU  CustomerID            pays  \n",
      "0        12/1/2010 8:26  2.55     17850.0  United Kingdom  \n",
      "1        12/1/2010 8:26  3.39     17850.0  United Kingdom  \n",
      "2        12/1/2010 8:26  2.75     17850.0  United Kingdom  \n",
      "3        12/1/2010 8:26  3.39     17850.0  United Kingdom  \n",
      "4        12/1/2010 8:26  3.39     17850.0  United Kingdom  \n",
      "...                 ...   ...         ...             ...  \n",
      "245898  6/30/2011 20:08  0.42     17891.0  United Kingdom  \n",
      "245899  6/30/2011 20:08  0.42     17891.0  United Kingdom  \n",
      "245900  6/30/2011 20:08  0.42     17891.0  United Kingdom  \n",
      "245901  6/30/2011 20:08  0.42     17891.0  United Kingdom  \n",
      "245902  6/30/2011 20:08  0.42     17891.0  United Kingdom  \n",
      "\n",
      "[235629 rows x 8 columns]\n"
     ]
    }
   ],
   "source": [
    "df = df.rename(columns={'InvoiceNo': 'numFacture', 'StockCode': 'numProduit', 'Description': 'nomProduit', 'UnitPrice': 'PU', 'InvoiceDate': 'dateAchat', 'Country': 'pays'})\n",
    "\n",
    "# The DataFrame now has the new column names\n",
    "print(df)"
   ]
  },
  {
   "cell_type": "code",
   "execution_count": 8,
   "id": "c4320084",
   "metadata": {},
   "outputs": [
    {
     "name": "stdout",
     "output_type": "stream",
     "text": [
      "       numFacture numProduit            pays\n",
      "0          536365     85123A  United Kingdom\n",
      "1          536365      71053  United Kingdom\n",
      "2          536365     84406B  United Kingdom\n",
      "3          536365     84029G  United Kingdom\n",
      "4          536365     84029E  United Kingdom\n",
      "...           ...        ...             ...\n",
      "245898     558637      22032  United Kingdom\n",
      "245899     558637      22028  United Kingdom\n",
      "245900     558637      22033  United Kingdom\n",
      "245901     558637      22029  United Kingdom\n",
      "245902     558637      22024  United Kingdom\n",
      "\n",
      "[235629 rows x 3 columns]\n"
     ]
    }
   ],
   "source": [
    "DFfacture= df[['numFacture', 'numProduit', 'pays']]\n",
    "print(DFfacture)"
   ]
  },
  {
   "cell_type": "code",
   "execution_count": null,
   "id": "49ca6252",
   "metadata": {},
   "outputs": [],
   "source": []
  }
 ],
 "metadata": {
  "kernelspec": {
   "display_name": "Python 3 (ipykernel)",
   "language": "python",
   "name": "python3"
  },
  "language_info": {
   "codemirror_mode": {
    "name": "ipython",
    "version": 3
   },
   "file_extension": ".py",
   "mimetype": "text/x-python",
   "name": "python",
   "nbconvert_exporter": "python",
   "pygments_lexer": "ipython3",
   "version": "3.9.12"
  }
 },
 "nbformat": 4,
 "nbformat_minor": 5
}
